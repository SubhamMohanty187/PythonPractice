{
  "nbformat": 4,
  "nbformat_minor": 0,
  "metadata": {
    "colab": {
      "provenance": [],
      "authorship_tag": "ABX9TyMDMnaVJUeRg0NkRRUHhNdO",
      "include_colab_link": true
    },
    "kernelspec": {
      "name": "python3",
      "display_name": "Python 3"
    },
    "language_info": {
      "name": "python"
    }
  },
  "cells": [
    {
      "cell_type": "markdown",
      "metadata": {
        "id": "view-in-github",
        "colab_type": "text"
      },
      "source": [
        "<a href=\"https://colab.research.google.com/github/SubhamMohanty187/PythonPractice/blob/main/PythonPractice2.ipynb\" target=\"_parent\"><img src=\"https://colab.research.google.com/assets/colab-badge.svg\" alt=\"Open In Colab\"/></a>"
      ]
    },
    {
      "cell_type": "markdown",
      "source": [
        "## Exception Handling\n",
        "\n",
        "It only handles run time issue. For compile time errors it will still throw an error"
      ],
      "metadata": {
        "id": "FgFsathpmWTC"
      }
    },
    {
      "cell_type": "code",
      "source": [
        "# try:\n",
        "#   pritf(Hello')\n",
        "# except:\n",
        "#   print('Try Block not working.')"
      ],
      "metadata": {
        "colab": {
          "base_uri": "https://localhost:8080/",
          "height": 106
        },
        "id": "-69j-7gmnFcO",
        "outputId": "776869f9-673a-4352-bfe6-6a11f327dddd"
      },
      "execution_count": 2,
      "outputs": [
        {
          "output_type": "error",
          "ename": "SyntaxError",
          "evalue": "unterminated string literal (detected at line 2) (<ipython-input-2-64715dfa6462>, line 2)",
          "traceback": [
            "\u001b[0;36m  File \u001b[0;32m\"<ipython-input-2-64715dfa6462>\"\u001b[0;36m, line \u001b[0;32m2\u001b[0m\n\u001b[0;31m    pritf(Hello')\u001b[0m\n\u001b[0m               ^\u001b[0m\n\u001b[0;31mSyntaxError\u001b[0m\u001b[0;31m:\u001b[0m unterminated string literal (detected at line 2)\n"
          ]
        }
      ]
    },
    {
      "cell_type": "markdown",
      "source": [
        "This is the sequnce of all the exception commands."
      ],
      "metadata": {
        "id": "k37fzYuomi56"
      }
    },
    {
      "cell_type": "code",
      "execution_count": null,
      "metadata": {
        "id": "X0LK5ftKi5AR"
      },
      "outputs": [],
      "source": [
        "try          # Put the code where you expect the errors.\n",
        "except       # If try block fails to execute then Except Block will be executed.\n",
        "else         # If Try block is executed successfully then only Else block wil be executed.\n",
        "finally      # The code inside finally block will always be executed no matter if try block is working or not."
      ]
    },
    {
      "cell_type": "code",
      "source": [
        "try:\n",
        "  prit(\"Hello\")                 # Try Block not working\n",
        "except:\n",
        "  print(\"Inside Except Block\")\n",
        "else:\n",
        "  print('Inside Else Block')\n",
        "finally:\n",
        "  print('Inside Finally BLock')\n"
      ],
      "metadata": {
        "colab": {
          "base_uri": "https://localhost:8080/"
        },
        "id": "Q05A3yC7nX7m",
        "outputId": "11399952-3408-49c8-fc33-33e3f31a85e1"
      },
      "execution_count": 4,
      "outputs": [
        {
          "output_type": "stream",
          "name": "stdout",
          "text": [
            "Inside Except Block\n",
            "Inside Finally BLock\n"
          ]
        }
      ]
    },
    {
      "cell_type": "code",
      "source": [
        "try:\n",
        "  print(\"Hello\")                # Try Block working.\n",
        "except:\n",
        "  print(\"Inside Except Block\")\n",
        "else:\n",
        "  print('Inside Else Block')\n",
        "finally:\n",
        "  print('Inside Finally BLock')"
      ],
      "metadata": {
        "colab": {
          "base_uri": "https://localhost:8080/"
        },
        "id": "Q1ifYQJLoEtm",
        "outputId": "e83b6d46-e063-4633-feba-56dc45916b8b"
      },
      "execution_count": 5,
      "outputs": [
        {
          "output_type": "stream",
          "name": "stdout",
          "text": [
            "Hello\n",
            "Inside Else Block\n",
            "Inside Finally BLock\n"
          ]
        }
      ]
    },
    {
      "cell_type": "markdown",
      "source": [
        "To See what the exception msg is"
      ],
      "metadata": {
        "id": "XZ-hP_pzpp9J"
      }
    },
    {
      "cell_type": "code",
      "source": [
        "try:\n",
        "  f = open('abc.txt')\n",
        "except Exception as e:\n",
        "  print(\"Error:\", e)"
      ],
      "metadata": {
        "colab": {
          "base_uri": "https://localhost:8080/"
        },
        "id": "_R-3Y77noJa-",
        "outputId": "a2f546e9-6988-4455-b51d-baa7087394d1"
      },
      "execution_count": 7,
      "outputs": [
        {
          "output_type": "stream",
          "name": "stdout",
          "text": [
            "Error: [Errno 2] No such file or directory: 'abc.txt'\n"
          ]
        }
      ]
    },
    {
      "cell_type": "code",
      "source": [
        "import sqlite3"
      ],
      "metadata": {
        "id": "1X-ntrLd5cBq"
      },
      "execution_count": 9,
      "outputs": []
    },
    {
      "cell_type": "code",
      "source": [
        "conn = sqlite3.connect(\"Subham\")"
      ],
      "metadata": {
        "id": "zAt5rP8N5g4B"
      },
      "execution_count": 10,
      "outputs": []
    },
    {
      "cell_type": "code",
      "source": [
        "conn.execute('drop table if exists abc')"
      ],
      "metadata": {
        "colab": {
          "base_uri": "https://localhost:8080/"
        },
        "id": "m8BJtBGB57R6",
        "outputId": "779bb659-625e-43cb-86d0-003d77c91138"
      },
      "execution_count": 24,
      "outputs": [
        {
          "output_type": "execute_result",
          "data": {
            "text/plain": [
              "<sqlite3.Cursor at 0x7dec9c2e44c0>"
            ]
          },
          "metadata": {},
          "execution_count": 24
        }
      ]
    },
    {
      "cell_type": "code",
      "source": [
        "conn.execute('create table abc(id int, name text, score int)')  # Table_name(datatype column_name) as input to create table command."
      ],
      "metadata": {
        "colab": {
          "base_uri": "https://localhost:8080/"
        },
        "id": "tXhf_B2T6WUs",
        "outputId": "db994109-6b36-4301-b8d3-a9c2d8b1f9f3"
      },
      "execution_count": 25,
      "outputs": [
        {
          "output_type": "execute_result",
          "data": {
            "text/plain": [
              "<sqlite3.Cursor at 0x7dec9c2e5e40>"
            ]
          },
          "metadata": {},
          "execution_count": 25
        }
      ]
    },
    {
      "cell_type": "code",
      "source": [
        "conn.execute(\"insert into abc(id, name, score) values (123, 'Don', 98)\")\n",
        "conn.execute(\"insert into abc(id, name, score) values (456, 'Bapa', 97)\")\n",
        "conn.execute(\"insert into abc(id, name, score) values (789, 'Ram', 100)\")\n",
        "conn.execute(\"insert into abc(id, name, score) values (189, 'Shyam', 80)\")"
      ],
      "metadata": {
        "colab": {
          "base_uri": "https://localhost:8080/"
        },
        "id": "NyQLPB4Z69Uf",
        "outputId": "5a26a94b-ff86-40f2-f87e-f08ca41e8994"
      },
      "execution_count": 26,
      "outputs": [
        {
          "output_type": "execute_result",
          "data": {
            "text/plain": [
              "<sqlite3.Cursor at 0x7dec9c2e5b40>"
            ]
          },
          "metadata": {},
          "execution_count": 26
        }
      ]
    },
    {
      "cell_type": "code",
      "source": [
        "conn.commit()"
      ],
      "metadata": {
        "id": "_pWlhJ6N9-WV"
      },
      "execution_count": 30,
      "outputs": []
    },
    {
      "cell_type": "markdown",
      "source": [
        "The output of a SQL database will always be in tuple format where each row of the table in the database will be a tuple."
      ],
      "metadata": {
        "id": "kf-fIhqf_xOq"
      }
    },
    {
      "cell_type": "code",
      "source": [
        "list(conn.execute('select * from abc'))"
      ],
      "metadata": {
        "colab": {
          "base_uri": "https://localhost:8080/"
        },
        "id": "L_tZKw_Z9RFl",
        "outputId": "0be0c69c-af4b-406e-9df2-0b7b878314ab"
      },
      "execution_count": 31,
      "outputs": [
        {
          "output_type": "execute_result",
          "data": {
            "text/plain": [
              "[(123, 'Don', 98), (456, 'Bapa', 97), (789, 'Ram', 100), (189, 'Shyam', 80)]"
            ]
          },
          "metadata": {},
          "execution_count": 31
        }
      ]
    },
    {
      "cell_type": "code",
      "source": [
        "for i in conn.execute('select * from abc'):\n",
        "  print(i)"
      ],
      "metadata": {
        "colab": {
          "base_uri": "https://localhost:8080/"
        },
        "id": "y4pWEqpt9WDg",
        "outputId": "683ca750-1f2a-4783-f691-069f9ab70bcc"
      },
      "execution_count": 32,
      "outputs": [
        {
          "output_type": "stream",
          "name": "stdout",
          "text": [
            "(123, 'Don', 98)\n",
            "(456, 'Bapa', 97)\n",
            "(789, 'Ram', 100)\n",
            "(189, 'Shyam', 80)\n"
          ]
        }
      ]
    },
    {
      "cell_type": "code",
      "source": [
        "for i in conn.execute('select * from abc order by score desc'):\n",
        "  print(i)"
      ],
      "metadata": {
        "colab": {
          "base_uri": "https://localhost:8080/"
        },
        "id": "8ItADiul_MLy",
        "outputId": "c574f62d-f2fe-4165-e945-ae682edd1f6d"
      },
      "execution_count": 34,
      "outputs": [
        {
          "output_type": "stream",
          "name": "stdout",
          "text": [
            "(789, 'Ram', 100)\n",
            "(123, 'Don', 98)\n",
            "(456, 'Bapa', 97)\n",
            "(189, 'Shyam', 80)\n"
          ]
        }
      ]
    },
    {
      "cell_type": "code",
      "source": [
        "for i in conn.execute(\"select * from abc where name = 'Don'\"):\n",
        "  print(i)"
      ],
      "metadata": {
        "colab": {
          "base_uri": "https://localhost:8080/"
        },
        "id": "54DtvfoH_jXj",
        "outputId": "2d9f0549-7513-48cd-d5c1-dda9d3a599a2"
      },
      "execution_count": 35,
      "outputs": [
        {
          "output_type": "stream",
          "name": "stdout",
          "text": [
            "(123, 'Don', 98)\n"
          ]
        }
      ]
    },
    {
      "cell_type": "code",
      "source": [],
      "metadata": {
        "id": "V2LvjvCdACi0"
      },
      "execution_count": null,
      "outputs": []
    }
  ]
}